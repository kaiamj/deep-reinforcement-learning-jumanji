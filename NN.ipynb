{
  "cells": [
    {
      "cell_type": "code",
      "execution_count": 3,
      "metadata": {
        "id": "QJZD-48Dp-hf"
      },
      "outputs": [],
      "source": [
        "import numpy as np\n",
        "# import chex\n",
        "# import jax.numpy as jnp"
      ]
    },
    {
      "cell_type": "code",
      "execution_count": 4,
      "metadata": {
        "id": "7-JpZNsph_nH"
      },
      "outputs": [],
      "source": [
        "### use to flatten to observation \n",
        "def flatten(obs):\n",
        "  p=[]  # obs = timestep.observation \n",
        "  p = np.append(obs.ems.x1,obs.ems.x2)\n",
        " #p = np.append(p,obs.ems.x2)\n",
        "  p = np.append(p,obs.ems.y1)\n",
        "  p = np.append(p,obs.ems.y2)\n",
        "  p = np.append(p,obs.ems.z1)\n",
        "  p = np.append(p,obs.ems.z2)\n",
        "  p = np.append(p,obs.ems_mask.flatten())\n",
        "  p = np.append(p,obs.items.x_len)\n",
        "  p = np.append(p,obs.items.y_len)\n",
        "  p = np.append(p,obs.items.z_len)\n",
        "  p = np.append(p,obs.items_mask.flatten())\n",
        "  p = np.append(p,obs.items_placed.flatten())\n",
        "  return p "
      ]
    },
    {
      "cell_type": "code",
      "execution_count": 5,
      "metadata": {
        "id": "yQ3vZM0rjE8I"
      },
      "outputs": [],
      "source": [
        "import torch\n",
        "from torch import nn\n",
        "import torch.nn.functional as F\n",
        "import numpy as np\n",
        "class FeedForwardNN(nn.Module):\n",
        "  def __init__(self):\n",
        "    super(FeedForwardNN, self).__init__()\n",
        "  def __init__(self, in_dim, out_dim):\n",
        "    super(FeedForwardNN, self).__init__()\n",
        "    self.layer1 = nn.Linear(in_dim, 64)\n",
        "    self.layer2 = nn.Linear(64, out_dim)\n",
        "    #self.layer3 = nn.Softmax()\n",
        "  def forward(self, obs):\n",
        "  # Convert observation to tensor if it's a numpy array\n",
        "    if isinstance(obs, np.ndarray):\n",
        "      obs = torch.tensor(obs, dtype=torch.float)\n",
        "      #print(\"inside tensor\")\n",
        "  \n",
        "    activation1 = F.relu(self.layer1(obs))\n",
        "    output = F.relu(self.layer2(activation1))\n",
        "    #output = self.layer3(activation2)\n",
        "    return output"
      ]
    },
    {
      "cell_type": "markdown",
      "metadata": {
        "id": "M8gevMW8e8jE"
      },
      "source": [
        "our initial policy, or actor, parameters and value function, or critic, parameters."
      ]
    },
    {
      "cell_type": "markdown",
      "metadata": {
        "id": "yCbmLLiYjqfB"
      },
      "source": [
        "## PPO"
      ]
    },
    {
      "cell_type": "code",
      "execution_count": 6,
      "metadata": {
        "id": "Xns65TLJjhYD"
      },
      "outputs": [],
      "source": [
        "from torch.distributions import MultivariateNormal,Categorical\n",
        "from torch.optim import Adam\n",
        "import pandas as pd\n",
        "\n",
        "class PPO:\n",
        "  def __init__(self,env):\n",
        "    self._init_hyperparameters()\n",
        "    self.env = env\n",
        "    #####################################\n",
        "    self.obs_dim = 380\n",
        "    self.act_dim = 800\n",
        "    ######################################\n",
        "    \n",
        "\n",
        "    #initiate actor and critic\n",
        "    self.actor = FeedForwardNN(self.obs_dim,self.act_dim)\n",
        "    self.critic = FeedForwardNN(self.obs_dim,1)\n",
        "\n",
        "      # Create our variable for the matrix.\n",
        "    # Note that I chose 0.5 for stdev arbitrarily.\n",
        "    self.cov_var = torch.full(size=(self.act_dim,), fill_value=0.5)\n",
        "    \n",
        "    # Create the covariance matrix\n",
        "    self.cov_mat = torch.diag(self.cov_var)\n",
        "    self.actor_optim = Adam(self.actor.parameters(), lr=self.lr)\n",
        "    self.critic_optim = Adam(self.critic.parameters(), lr=self.lr)\n",
        "    \n",
        "    \n",
        "  def _init_hyperparameters(self):\n",
        "    # Default values for hyperparameters, will need to change later.\n",
        "    self.timesteps_per_batch = 2  #4800            # timesteps per batch\n",
        "    #self.max_timesteps_per_episode = 1600      # timesteps per episode\n",
        "    self.gamma = 0.95\n",
        "    self.n_updates_per_iteration = 5\n",
        "    self.clip = 0.2 # As recommended by the paper\n",
        "    self.lr = 0.005\n",
        "\n",
        "  def compute_rtgs(self, batch_rews): \n",
        "    # The rewards-to-go (rtg) per episode per batch to return.\n",
        "    # The shape will be (num timesteps per episode)\n",
        "    batch_rtgs = []\n",
        "    #print(\"batch_rewards \",batch_rews)\n",
        "    # Iterate through each episode backwards to maintain same order\n",
        "    # in batch_rtgs\n",
        "    for ep_rews in reversed(batch_rews):\n",
        "      discounted_reward = 0 # The discounted reward so far\n",
        "      for rew in reversed(ep_rews):\n",
        "        discounted_reward = rew + discounted_reward * self.gamma\n",
        "        batch_rtgs.insert(0, discounted_reward)\n",
        "    # Convert the rewards-to-go into a tensor\n",
        "    #print(\"discounted reward of batch\", batch_rtgs)\n",
        "    batch_rtgs = torch.tensor(batch_rtgs, dtype=torch.float)\n",
        "    return batch_rtgs\n",
        "\n",
        "  def get_action(self,obs,action_tensor):\n",
        "    #flatten observation  p = flatten(timestep.observation)\n",
        "    # inside critic and actor by converting it to np.array(p) by actor you will get action\n",
        "     p1 = self.actor(obs)\n",
        "     indices = torch.nonzero(action_tensor)  #getting valid indicies \n",
        "     p2 = p1[indices] # getting proper valid action probablities\n",
        "     p2= torch.reshape(p2,(-1,))  # reshapping it to make it 1D\n",
        "     probs = Categorical( logits = p2) #logits un-normalized probablities \n",
        "     a=probs.sample() #actions\n",
        "     #print(\"in get_action , shape of valid probs\", p2.shape)\n",
        "     # probs.log_prob(a) # softmax probablity of that action\n",
        "     action_id = indices[a.item()].item()  # valid action value \n",
        "     return action_id, a, probs.log_prob(a)  \n",
        "\n",
        "    #  ind = action_mask.index[[action_mask[0] == True]]\n",
        "    #  df = pd.DataFrame(p1.detach().numpy())\n",
        "    #  probs = Categorical(probs=torch.tensor(list(df.iloc[ind][0])))\n",
        "    #  action = probs.sample()\n",
        "    #  action_id = df.iloc[ind][0][action].index\n",
        "     \n",
        "\n",
        "\n",
        "   \n",
        "  def rollout(self):\n",
        "    # Batch data\n",
        "    batch_obs = []             # batch observations\n",
        "    batch_acts = []            # batch actions\n",
        "    batch_log_probs = []       # log probs of each action\n",
        "    batch_rews = []            # batch rewards\n",
        "    batch_rtgs = []            # batch rewards-to-go\n",
        "    batch_lens = []            # episodic lengths in batch\n",
        "                 # for animation\n",
        "    # Number of timesteps run so far this batch´\n",
        "    \n",
        "    step_fn = jax.jit(self.env.step)\n",
        "    reset_fn = jax.jit(self.env.reset)\n",
        "    t = 0 \n",
        "    while t < self.timesteps_per_batch:\n",
        "      # Rewards this episode\n",
        "      ep_rews = []\n",
        "      key = jax.random.PRNGKey(0)\n",
        "      ###############################\n",
        "      #jax.jit(env.reset)(key)\n",
        "      state, timestep = reset_fn(key)\n",
        "     \n",
        "      ###############################\n",
        "      ep_t = 0\n",
        "      rew = 0.0\n",
        "      #for ep_t in range(self.max_timesteps_per_episode):\n",
        "      while rew == 0.0:\n",
        "        # Increment timesteps ran this batch so far\n",
        "        t += 1\n",
        "        # Collect observation\n",
        "        ################################################\n",
        "        obs = flatten(timestep.observation)\n",
        "        #obs = torch.tensor(obs, dtype=torch.float)\n",
        "        batch_obs.append(obs)\n",
        "        \n",
        "        num_ems, num_items = self.env.action_spec().num_values\n",
        "        action_mask = timestep.observation.action_mask.flatten()\n",
        "        action_tensor = torch.tensor(np.array(action_mask),dtype=torch.float)\n",
        "         \n",
        "        \n",
        "        #----------------------------------------------- get from NN\n",
        "        #ems_item_id = self.get_action(obs,action_mask)\n",
        "        ems_item_id, action_,log_prob  = self.get_action(obs,action_tensor)\n",
        "        # -------------------------------------------------\n",
        "        ems_id, item_id = jnp.divmod(ems_item_id, num_items)\n",
        "\n",
        "        # Wrap the action as a jax array of shape (2,)\n",
        "        action = jnp.array([ems_id, item_id])\n",
        "\n",
        "        #action = torch.tensor(action, dtype=torch.float)\n",
        "        #ems_item_id, action_,log_prob  = self.get_action(obs,action_mask)\n",
        "        #mean = self.actor(obs)\n",
        "        #dist = MultivariateNormal(mean, self.cov_mat)\n",
        "        #log_prob = dist.log_prob(action)\n",
        "        #batch_states.append(state)\n",
        "        state,timestep = step_fn(state, action)\n",
        "        rew = np.array(timestep.reward.flatten())[0]\n",
        "        ##################################################\n",
        "        # Collect reward, action, and log prob\n",
        "        ep_rews.append(rew)\n",
        "        #print(\"reward \", rew)\n",
        "        batch_acts.append(action_)\n",
        "        \n",
        "        #print(\"action_  \",action_)\n",
        "        batch_log_probs.append(log_prob)\n",
        "        #print(\"log_probs \", log_prob)\n",
        "        ep_t += 1\n",
        "      # Collect episodic length and rewards\n",
        "      #print(\"end of episode\", ep_t)\n",
        "      batch_lens.append(ep_t + 1) # plus 1 because timestep starts at 0\n",
        "      #print(\"episode length  ,\" , ep_t+1)\n",
        "      batch_rews.append(ep_rews) \n",
        "      #print(\"episode rewards \", ep_rews)\n",
        "      # Reshape data as tensors in the shape specified before returning\n",
        "    #print(\"end of batch \")\n",
        "    batch_obs = torch.tensor(batch_obs, dtype=torch.float)\n",
        "    #print(\"batch_observation \", batch_obs)\n",
        "    batch_acts = torch.tensor(batch_acts, dtype=torch.float)\n",
        "    #print(\"batch_action \", batch_acts)\n",
        "    batch_log_probs = torch.tensor(batch_log_probs, dtype=torch.float)\n",
        "    #print(\"batch log_probs \",batch_log_probs)\n",
        "    # ALG STEP #4\n",
        "    #print(\"batch_rewards \",batch_rews)\n",
        "    batch_rtgs = self.compute_rtgs(batch_rews)\n",
        "    #print(\"discounted rewards \",batch_rtgs)\n",
        "    #env.render(state)\n",
        "    # Return the batch data\n",
        "    return batch_obs, batch_acts,batch_log_probs, batch_rtgs, batch_lens,rew\n",
        "\n",
        "  def learn(self, total_timesteps):\n",
        "    t_so_far = 0 # Timesteps simulated so far\n",
        "    episode_reward = []\n",
        "    #print(\"total timesteps \",total_timesteps, \" updates per iteration \", self.n_updates_per_iteration)\n",
        "    while t_so_far < total_timesteps:              # ALG STEP 2\n",
        "      # Increment t_so_far somewhere below\n",
        "      # ALG STEP 3\n",
        "      batch_obs, batch_acts,batch_log_probs, batch_rtgs, batch_lens,rew = self.rollout()\n",
        "      episode_reward.append(rew)\n",
        "      # Calculate how many timesteps we collected this batch   \n",
        "      t_so_far += np.sum(batch_lens)\n",
        "      #print(\"t_so_far \",t_so_far)\n",
        "\n",
        "      # Calculate V_{phi, k}\n",
        "      V, _ = self.evaluate(batch_obs, batch_acts)\n",
        "      #print(\" after evaluate \", V , _)\n",
        "      # ALG STEP 5\n",
        "      # Calculate advantage\n",
        "      A_k = batch_rtgs - V.detach()\n",
        "      # Normalize advantages\n",
        "      A_k = (A_k - A_k.mean()) / (A_k.std() + 1e-10)\n",
        "      for i in range(self.n_updates_per_iteration):\n",
        "        # Calculate V_phi and pi_theta(a_t | s_t)    \n",
        "        #print(\" update no per iteration \",i)\n",
        "        V, curr_log_probs = self.evaluate(batch_obs, batch_acts)\n",
        "        # Calculate ratios\n",
        "        ratios = torch.exp(curr_log_probs - batch_log_probs)\n",
        "        # Calculate surrogate losses\n",
        "        surr1 = ratios * A_k\n",
        "        surr2 = torch.clamp(ratios, 1 - self.clip, 1 + self.clip) * A_k\n",
        "        actor_loss = (-torch.min(surr1, surr2)).mean()\n",
        "        #print(\"actor_loss \", actor_loss)\n",
        "        # Calculate gradients and perform backward propagation for actor \n",
        "        # network\n",
        "        self.actor_optim.zero_grad()\n",
        "        actor_loss.backward()\n",
        "        self.actor_optim.step()\n",
        "        critic_loss = nn.MSELoss()(V, batch_rtgs)\n",
        "        #print(\"critic_loss \", critic_loss)\n",
        "        # Calculate gradients and perform backward propagation for critic network    \n",
        "        self.critic_optim.zero_grad()    \n",
        "        critic_loss.backward()    \n",
        "        self.critic_optim.step()\n",
        "    return episode_reward\n",
        "    \n",
        "  def evaluate(self, batch_obs,batch_acts):\n",
        "    # Query critic network for a value V for each obs in batch_obs.\n",
        "    V = self.critic(batch_obs).squeeze()\n",
        "    #print(\"in evaluate , value function after critic \", V)\n",
        "    # Calculate the log probabilities of batch actions using most \n",
        "    # recent actor network.\n",
        "    # This segment of code is similar to that in get_action()\n",
        "    mean = self.actor(batch_obs)\n",
        "    #print(\"after actor \", mean)\n",
        "    dist = Categorical(mean)\n",
        "    log_probs = dist.log_prob(batch_acts)\n",
        "    # Return predicted values V and log probs log_probs\n",
        "    return V, log_probs\n",
        " \n",
        "  "
      ]
    },
    {
      "cell_type": "code",
      "execution_count": 7,
      "metadata": {
        "id": "6epzk7_v2Z54"
      },
      "outputs": [],
      "source": [
        "import jax\n",
        "import jax.numpy as jnp\n",
        "import jumanji\n",
        "from jumanji.wrappers import AutoResetWrapper"
      ]
    },
    {
      "cell_type": "code",
      "execution_count": 8,
      "metadata": {},
      "outputs": [
        {
          "name": "stdout",
          "output_type": "stream",
          "text": [
            "cpu\n"
          ]
        }
      ],
      "source": [
        "from jax.lib import xla_bridge\n",
        "print(xla_bridge.get_backend().platform)"
      ]
    },
    {
      "cell_type": "code",
      "execution_count": 14,
      "metadata": {
        "colab": {
          "base_uri": "https://localhost:8080/"
        },
        "id": "kmqsDt3BjtaN",
        "outputId": "eb646e53-952c-44da-94b2-46f697fc7f7e"
      },
      "outputs": [
        {
          "name": "stderr",
          "output_type": "stream",
          "text": [
            "/usr/users/bdmagr5/hernandez/miniconda3/envs/marita/lib/python3.8/site-packages/jax/_src/ops/scatter.py:87: FutureWarning: scatter inputs have incompatible types: cannot safely cast value from dtype=float32 to dtype=int32. In future JAX releases this will result in an error.\n",
            "  warnings.warn(\"scatter inputs have incompatible types: cannot safely cast \"\n",
            "/usr/users/bdmagr5/hernandez/miniconda3/envs/marita/lib/python3.8/site-packages/jax/_src/ops/scatter.py:87: FutureWarning: scatter inputs have incompatible types: cannot safely cast value from dtype=float32 to dtype=int32. In future JAX releases this will result in an error.\n",
            "  warnings.warn(\"scatter inputs have incompatible types: cannot safely cast \"\n",
            "/usr/users/bdmagr5/hernandez/miniconda3/envs/marita/lib/python3.8/site-packages/jax/_src/ops/scatter.py:87: FutureWarning: scatter inputs have incompatible types: cannot safely cast value from dtype=float32 to dtype=int32. In future JAX releases this will result in an error.\n",
            "  warnings.warn(\"scatter inputs have incompatible types: cannot safely cast \"\n",
            "/usr/users/bdmagr5/hernandez/miniconda3/envs/marita/lib/python3.8/site-packages/jax/_src/ops/scatter.py:87: FutureWarning: scatter inputs have incompatible types: cannot safely cast value from dtype=float32 to dtype=int32. In future JAX releases this will result in an error.\n",
            "  warnings.warn(\"scatter inputs have incompatible types: cannot safely cast \"\n",
            "/usr/users/bdmagr5/hernandez/miniconda3/envs/marita/lib/python3.8/site-packages/jax/_src/ops/scatter.py:87: FutureWarning: scatter inputs have incompatible types: cannot safely cast value from dtype=float32 to dtype=int32. In future JAX releases this will result in an error.\n",
            "  warnings.warn(\"scatter inputs have incompatible types: cannot safely cast \"\n",
            "/usr/users/bdmagr5/hernandez/miniconda3/envs/marita/lib/python3.8/site-packages/jax/_src/ops/scatter.py:87: FutureWarning: scatter inputs have incompatible types: cannot safely cast value from dtype=float32 to dtype=int32. In future JAX releases this will result in an error.\n",
            "  warnings.warn(\"scatter inputs have incompatible types: cannot safely cast \"\n",
            "/usr/users/bdmagr5/hernandez/miniconda3/envs/marita/lib/python3.8/site-packages/jax/_src/numpy/lax_numpy.py:172: UserWarning: Explicitly requested dtype float64 requested in asarray is not available, and will be truncated to dtype float32. To enable more dtypes, set the jax_enable_x64 configuration option or the JAX_ENABLE_X64 shell environment variable. See https://github.com/google/jax#current-gotchas for more.\n",
            "  return asarray(x, dtype=self.dtype)\n",
            "/usr/users/bdmagr5/hernandez/miniconda3/envs/marita/lib/python3.8/site-packages/jax/_src/numpy/lax_numpy.py:172: UserWarning: Explicitly requested dtype float64 requested in asarray is not available, and will be truncated to dtype float32. To enable more dtypes, set the jax_enable_x64 configuration option or the JAX_ENABLE_X64 shell environment variable. See https://github.com/google/jax#current-gotchas for more.\n",
            "  return asarray(x, dtype=self.dtype)\n"
          ]
        }
      ],
      "source": [
        "key = jax.random.PRNGKey(0)\n",
        "env = jumanji.make(\"BinPack-toy-v0\")\n",
        "model = PPO(env)\n",
        "episode_rewards = model.learn(100000)\n",
        "#batch_obs, batch_acts,batch_log_probs, batch_rtgs, batch_lens,batch_states = model.rollout()\n"
      ]
    },
    {
      "cell_type": "code",
      "execution_count": 15,
      "metadata": {
        "colab": {
          "base_uri": "https://localhost:8080/",
          "height": 296
        },
        "id": "l4q3q2g3Fo_c",
        "outputId": "321b459c-a8b6-4da5-aae5-d0d0a6a3fcf9"
      },
      "outputs": [
        {
          "data": {
            "text/plain": [
              "Text(0, 0.5, 'Reward')"
            ]
          },
          "execution_count": 15,
          "metadata": {},
          "output_type": "execute_result"
        },
        {
          "data": {
            "image/png": "[encoded data removed]",
            "text/plain": [
              "<Figure size 640x480 with 1 Axes>"
            ]
          },
          "metadata": {},
          "output_type": "display_data"
        }
      ],
      "source": [
        "import matplotlib.pyplot as plt\n",
        "%matplotlib inline\n",
        "plt.plot(episode_rewards, alpha=0.5)\n",
        "plt.xlabel('Episode number')\n",
        "plt.ylabel('Reward')"
      ]
    },
    {
      "cell_type": "code",
      "execution_count": 19,
      "metadata": {},
      "outputs": [
        {
          "data": {
            "text/plain": [
              "0.6"
            ]
          },
          "execution_count": 19,
          "metadata": {},
          "output_type": "execute_result"
        }
      ],
      "source": [
        "round(np.mean(episode_rewards),2)"
      ]
    },
    {
      "cell_type": "code",
      "execution_count": 8,
      "metadata": {},
      "outputs": [
        {
          "name": "stdout",
          "output_type": "stream",
          "text": [
            "[0.53125525, 0.59043306, 0.53775084, 0.69130915, 0.4671342, 0.6171003, 0.525011, 0.64740026, 0.64532566, 0.5004757, 0.62488943, 0.6093831, 0.5139291, 0.6080453, 0.57086813, 0.5890108, 0.46906736, 0.64003646, 0.4880575, 0.6404928, 0.44882622, 0.5960063, 0.7022575, 0.7037194, 0.5787861, 0.6240949, 0.607091, 0.59485453, 0.40748146, 0.6199969, 0.5919552, 0.6678214, 0.6273397, 0.60110486, 0.6440497, 0.5750107, 0.56975603, 0.57863677, 0.66394293, 0.5119799, 0.7289492, 0.5319727, 0.70135903, 0.54685426, 0.6856508, 0.67564523, 0.6064057, 0.55987555, 0.5197494, 0.48589718, 0.48479393, 0.52936435, 0.5760081, 0.64170814, 0.5620912, 0.5653093, 0.6645298, 0.6204706, 0.4866647, 0.6028169, 0.59687674, 0.71094036, 0.5702527, 0.568531, 0.6082955, 0.5913219, 0.6364921, 0.64170814, 0.5558414, 0.56915325, 0.71863425, 0.8071937, 0.70482266, 0.5710331, 0.58581007, 0.58389586, 0.60315055, 0.55162066, 0.50900835, 0.46418396, 0.5493461, 0.5212874, 0.7309949, 0.5223906, 0.6719758, 0.53917575, 0.61447924]\n"
          ]
        }
      ],
      "source": [
        "print(episode_rewards)"
      ]
    },
    {
      "cell_type": "code",
      "execution_count": 19,
      "metadata": {
        "colab": {
          "base_uri": "https://localhost:8080/",
          "height": 404
        },
        "id": "5j5Z6MVz06VF",
        "outputId": "4c230b4c-deaf-4a2d-a1c8-f3ac5e2041dd"
      },
      "outputs": [
        {
          "data": {
            "image/png": "[encoded data removed]",
            "text/plain": [
              "<Figure size 600x600 with 1 Axes>"
            ]
          },
          "metadata": {},
          "output_type": "display_data"
        }
      ],
      "source": [
        "'''import time\n",
        "\n",
        "for i in batch_states:\n",
        "  \n",
        "  env.render(i)\n",
        "  time.sleep(0.2)\n",
        "#print(\"Printed after 2.4 seconds.\")'''"
      ]
    },
    {
      "cell_type": "code",
      "execution_count": null,
      "metadata": {
        "id": "slk-5v50HYbk"
      },
      "outputs": [],
      "source": [
        "# next steps\n",
        "# save visualization after end of each batch \n",
        "# understand func learn middle part again\n",
        "# tune hyperparameters"
      ]
    },
    {
      "cell_type": "code",
      "execution_count": null,
      "metadata": {
        "id": "b6VhKRbXCwtJ"
      },
      "outputs": [],
      "source": []
    },
    {
      "cell_type": "code",
      "execution_count": null,
      "metadata": {
        "id": "Rb7BGVmyCw0X"
      },
      "outputs": [],
      "source": []
    },
    {
      "cell_type": "code",
      "execution_count": null,
      "metadata": {
        "id": "7rRzY-NsCw6Z"
      },
      "outputs": [],
      "source": []
    },
    {
      "cell_type": "code",
      "execution_count": null,
      "metadata": {
        "colab": {
          "base_uri": "https://localhost:8080/",
          "height": 217
        },
        "id": "KdfX8T1tzBZl",
        "outputId": "1de69ff2-d1d0-4881-a873-7af05f3238ff"
      },
      "outputs": [
        {
          "ename": "AttributeError",
          "evalue": "ignored",
          "output_type": "error",
          "traceback": [
            "\u001b[0;31m---------------------------------------------------------------------------\u001b[0m",
            "\u001b[0;31mAttributeError\u001b[0m                            Traceback (most recent call last)",
            "\u001b[0;32m<ipython-input-10-972218c9b993>\u001b[0m in \u001b[0;36m<module>\u001b[0;34m\u001b[0m\n\u001b[1;32m      4\u001b[0m \u001b[0;31m# You can go back to the previous cell and change the seed if you would like to see a different run.\u001b[0m\u001b[0;34m\u001b[0m\u001b[0;34m\u001b[0m\u001b[0;34m\u001b[0m\u001b[0m\n\u001b[1;32m      5\u001b[0m \u001b[0mrc\u001b[0m\u001b[0;34m(\u001b[0m\u001b[0;34m'animation'\u001b[0m\u001b[0;34m,\u001b[0m \u001b[0mhtml\u001b[0m\u001b[0;34m=\u001b[0m\u001b[0;34m'jshtml'\u001b[0m\u001b[0;34m)\u001b[0m\u001b[0;34m\u001b[0m\u001b[0;34m\u001b[0m\u001b[0m\n\u001b[0;32m----> 6\u001b[0;31m \u001b[0manimation\u001b[0m \u001b[0;34m=\u001b[0m \u001b[0menv\u001b[0m\u001b[0;34m.\u001b[0m\u001b[0manimation\u001b[0m\u001b[0;34m(\u001b[0m\u001b[0mbatch_states\u001b[0m\u001b[0;34m)\u001b[0m\u001b[0;34m\u001b[0m\u001b[0;34m\u001b[0m\u001b[0m\n\u001b[0m\u001b[1;32m      7\u001b[0m \u001b[0manimation\u001b[0m\u001b[0;34m\u001b[0m\u001b[0;34m\u001b[0m\u001b[0m\n",
            "\u001b[0;31mAttributeError\u001b[0m: 'BinPack' object has no attribute 'animation'"
          ]
        }
      ],
      "source": [
        "%matplotlib inline\n",
        "from matplotlib import rc\n",
        "# Visualise the episode!\n",
        "# You can go back to the previous cell and change the seed if you would like to see a different run.\n",
        "rc('animation', html='jshtml') \n",
        "animation = env.animation(batch_states)\n",
        "animation"
      ]
    },
    {
      "cell_type": "code",
      "execution_count": null,
      "metadata": {
        "id": "aOXXdtU1Cw87"
      },
      "outputs": [],
      "source": []
    },
    {
      "cell_type": "code",
      "execution_count": null,
      "metadata": {
        "id": "Dxbgt2omCw_f"
      },
      "outputs": [],
      "source": []
    },
    {
      "cell_type": "code",
      "execution_count": null,
      "metadata": {
        "id": "0vk1SjD3CxCO"
      },
      "outputs": [],
      "source": []
    },
    {
      "cell_type": "code",
      "execution_count": null,
      "metadata": {
        "colab": {
          "base_uri": "https://localhost:8080/"
        },
        "id": "QvhuPtb0h_km",
        "outputId": "14a391a6-02cf-4883-9205-c6f11e6a42c3"
      },
      "outputs": [
        {
          "name": "stderr",
          "output_type": "stream",
          "text": [
            "/usr/local/lib/python3.8/dist-packages/jax/_src/numpy/lax_numpy.py:173: UserWarning: Explicitly requested dtype float64 requested in asarray is not available, and will be truncated to dtype float32. To enable more dtypes, set the jax_enable_x64 configuration option or the JAX_ENABLE_X64 shell environment variable. See https://github.com/google/jax#current-gotchas for more.\n",
            "  return asarray(x, dtype=self.dtype)\n",
            "/usr/local/lib/python3.8/dist-packages/jax/_src/ops/scatter.py:87: FutureWarning: scatter inputs have incompatible types: cannot safely cast value from dtype=float32 to dtype=int32. In future JAX releases this will result in an error.\n",
            "  warnings.warn(\"scatter inputs have incompatible types: cannot safely cast \"\n",
            "/usr/local/lib/python3.8/dist-packages/jax/_src/ops/scatter.py:87: FutureWarning: scatter inputs have incompatible types: cannot safely cast value from dtype=float32 to dtype=int32. In future JAX releases this will result in an error.\n",
            "  warnings.warn(\"scatter inputs have incompatible types: cannot safely cast \"\n",
            "/usr/local/lib/python3.8/dist-packages/jax/_src/ops/scatter.py:87: FutureWarning: scatter inputs have incompatible types: cannot safely cast value from dtype=float32 to dtype=int32. In future JAX releases this will result in an error.\n",
            "  warnings.warn(\"scatter inputs have incompatible types: cannot safely cast \"\n",
            "/usr/local/lib/python3.8/dist-packages/jax/_src/ops/scatter.py:87: FutureWarning: scatter inputs have incompatible types: cannot safely cast value from dtype=float32 to dtype=int32. In future JAX releases this will result in an error.\n",
            "  warnings.warn(\"scatter inputs have incompatible types: cannot safely cast \"\n",
            "/usr/local/lib/python3.8/dist-packages/jax/_src/ops/scatter.py:87: FutureWarning: scatter inputs have incompatible types: cannot safely cast value from dtype=float32 to dtype=int32. In future JAX releases this will result in an error.\n",
            "  warnings.warn(\"scatter inputs have incompatible types: cannot safely cast \"\n",
            "/usr/local/lib/python3.8/dist-packages/jax/_src/ops/scatter.py:87: FutureWarning: scatter inputs have incompatible types: cannot safely cast value from dtype=float32 to dtype=int32. In future JAX releases this will result in an error.\n",
            "  warnings.warn(\"scatter inputs have incompatible types: cannot safely cast \"\n",
            "/usr/local/lib/python3.8/dist-packages/jax/_src/numpy/lax_numpy.py:173: UserWarning: Explicitly requested dtype float64 requested in asarray is not available, and will be truncated to dtype float32. To enable more dtypes, set the jax_enable_x64 configuration option or the JAX_ENABLE_X64 shell environment variable. See https://github.com/google/jax#current-gotchas for more.\n",
            "  return asarray(x, dtype=self.dtype)\n",
            "/usr/local/lib/python3.8/dist-packages/jax/_src/numpy/lax_numpy.py:173: UserWarning: Explicitly requested dtype float64 requested in asarray is not available, and will be truncated to dtype float32. To enable more dtypes, set the jax_enable_x64 configuration option or the JAX_ENABLE_X64 shell environment variable. See https://github.com/google/jax#current-gotchas for more.\n",
            "  return asarray(x, dtype=self.dtype)\n"
          ]
        },
        {
          "name": "stdout",
          "output_type": "stream",
          "text": [
            "0.0\n"
          ]
        }
      ],
      "source": [
        "import jax\n",
        "import jax.numpy as jnp\n",
        "import jumanji\n",
        "from jumanji.wrappers import AutoResetWrapper\n",
        "key = jax.random.PRNGKey(0)\n",
        "env = jumanji.make(\"BinPack-toy-v0\")\n",
        "state, timestep = env.reset(0)\n",
        "# Randomly choose ems_id and item_id using the action mask\n",
        "\n",
        "num_ems, num_items = env.action_spec().num_values\n",
        "ems_item_id = jax.random.choice(\n",
        "    key=key,\n",
        "    a=num_ems * num_items,\n",
        "    p=timestep.observation.action_mask.flatten(),\n",
        ")\n",
        "ems_id, item_id = jnp.divmod(ems_item_id, num_items)\n",
        "\n",
        "#Wrap the action as a jax array of shape (2,)\n",
        "action = jnp.array([ems_id, item_id])\n",
        "state, timestep = env.step(state, action)\n",
        "print(timestep.reward)"
      ]
    },
    {
      "cell_type": "code",
      "execution_count": null,
      "metadata": {
        "colab": {
          "base_uri": "https://localhost:8080/"
        },
        "id": "3I4EycGp_tHi",
        "outputId": "8e1541f9-7f6e-4c95-874b-5790f97fb6e6"
      },
      "outputs": [
        {
          "data": {
            "text/plain": [
              "0.0"
            ]
          },
          "execution_count": 46,
          "metadata": {},
          "output_type": "execute_result"
        }
      ],
      "source": [
        "np.array(timestep.reward.flatten())[0]"
      ]
    },
    {
      "cell_type": "code",
      "execution_count": null,
      "metadata": {
        "colab": {
          "base_uri": "https://localhost:8080/",
          "height": 165
        },
        "id": "jSHOCZ2nsK-S",
        "outputId": "b0d2467c-b89b-46f4-f0c3-2308dc4a5c35"
      },
      "outputs": [
        {
          "ename": "NameError",
          "evalue": "ignored",
          "output_type": "error",
          "traceback": [
            "\u001b[0;31m---------------------------------------------------------------------------\u001b[0m",
            "\u001b[0;31mNameError\u001b[0m                                 Traceback (most recent call last)",
            "\u001b[0;32m<ipython-input-33-28959a26843e>\u001b[0m in \u001b[0;36m<module>\u001b[0;34m\u001b[0m\n\u001b[0;32m----> 1\u001b[0;31m \u001b[0mp\u001b[0m \u001b[0;34m=\u001b[0m \u001b[0mflatten\u001b[0m\u001b[0;34m(\u001b[0m\u001b[0mtimestep\u001b[0m\u001b[0;34m.\u001b[0m\u001b[0mobservation\u001b[0m\u001b[0;34m)\u001b[0m\u001b[0;34m\u001b[0m\u001b[0;34m\u001b[0m\u001b[0m\n\u001b[0m",
            "\u001b[0;31mNameError\u001b[0m: name 'timestep' is not defined"
          ]
        }
      ],
      "source": [
        "p = flatten(timestep.observation)"
      ]
    },
    {
      "cell_type": "code",
      "execution_count": null,
      "metadata": {
        "colab": {
          "base_uri": "https://localhost:8080/"
        },
        "id": "WE29o1XaxDDw",
        "outputId": "48dcdd93-9baa-4f14-86d7-36cd56a70374"
      },
      "outputs": [
        {
          "data": {
            "text/plain": [
              "(380,)"
            ]
          },
          "execution_count": 12,
          "metadata": {},
          "output_type": "execute_result"
        }
      ],
      "source": [
        "p.shape"
      ]
    },
    {
      "cell_type": "code",
      "execution_count": null,
      "metadata": {
        "colab": {
          "base_uri": "https://localhost:8080/"
        },
        "id": "A_8XaiCMh_sB",
        "outputId": "c64efdb1-0944-474e-bbde-60840b63a29d"
      },
      "outputs": [
        {
          "data": {
            "text/plain": [
              "jumanji.environments.combinatorial.binpack.types.Observation"
            ]
          },
          "execution_count": 6,
          "metadata": {},
          "output_type": "execute_result"
        }
      ],
      "source": [
        "type(timestep.observation)"
      ]
    },
    {
      "cell_type": "code",
      "execution_count": null,
      "metadata": {
        "colab": {
          "base_uri": "https://localhost:8080/"
        },
        "id": "rDAD_BVGi2P0",
        "outputId": "8aef776d-1194-4096-98e9-ec9f7e47aac0"
      },
      "outputs": [
        {
          "data": {
            "text/plain": [
              "(800,)"
            ]
          },
          "execution_count": 7,
          "metadata": {},
          "output_type": "execute_result"
        }
      ],
      "source": [
        "timestep.observation.action_mask.flatten().shape"
      ]
    },
    {
      "cell_type": "code",
      "execution_count": null,
      "metadata": {
        "id": "fxleMe73i9Eq"
      },
      "outputs": [],
      "source": [
        "env.action_spec()"
      ]
    },
    {
      "cell_type": "code",
      "execution_count": null,
      "metadata": {
        "id": "CiLncq7Ji9Hj"
      },
      "outputs": [],
      "source": [
        "env.observation_spec()"
      ]
    },
    {
      "cell_type": "code",
      "execution_count": null,
      "metadata": {
        "colab": {
          "base_uri": "https://localhost:8080/"
        },
        "id": "Lu9eoPWAxU7n",
        "outputId": "39209704-abab-4156-dbdd-9ddce02b6a78"
      },
      "outputs": [
        {
          "data": {
            "text/plain": [
              "420"
            ]
          },
          "execution_count": 56,
          "metadata": {},
          "output_type": "execute_result"
        }
      ],
      "source": [
        "p.shape[0]"
      ]
    },
    {
      "cell_type": "code",
      "execution_count": null,
      "metadata": {
        "id": "KfVFlbZfn3Lk"
      },
      "outputs": [],
      "source": [
        "#flatten observation  p = flatten(timestep.observation)\n",
        "# inside critic and actor by converting it to np.array(p) by actor you will get action"
      ]
    },
    {
      "cell_type": "code",
      "execution_count": null,
      "metadata": {
        "colab": {
          "base_uri": "https://localhost:8080/"
        },
        "id": "xYwxRXLbxAWG",
        "outputId": "bc32666f-6cd3-40f2-955e-13c7cb3210bf"
      },
      "outputs": [
        {
          "name": "stdout",
          "output_type": "stream",
          "text": [
            "inside tensor\n"
          ]
        }
      ],
      "source": [
        "model1 = FeedForwardNN(p.shape[0],800)\n",
        "p1 = model1.forward(np.array(p))\n"
      ]
    },
    {
      "cell_type": "code",
      "execution_count": null,
      "metadata": {
        "colab": {
          "base_uri": "https://localhost:8080/"
        },
        "id": "_0Mg-z4uMhPe",
        "outputId": "6e81ea2e-0b7a-4317-ab75-40bffe5eb468"
      },
      "outputs": [
        {
          "name": "stdout",
          "output_type": "stream",
          "text": [
            "inside tensor\n"
          ]
        }
      ],
      "source": [
        "model2 = FeedForwardNN(p.shape[0],1)\n",
        "critic = model2.forward(np.array(p))"
      ]
    },
    {
      "cell_type": "code",
      "execution_count": null,
      "metadata": {
        "colab": {
          "base_uri": "https://localhost:8080/"
        },
        "id": "1ylCth8dMnmQ",
        "outputId": "4ed625b3-92fe-4d7f-fce4-f3cab297258c"
      },
      "outputs": [
        {
          "data": {
            "text/plain": [
              "tensor([0.], grad_fn=<ReluBackward0>)"
            ]
          },
          "execution_count": 63,
          "metadata": {},
          "output_type": "execute_result"
        }
      ],
      "source": [
        "critic"
      ]
    },
    {
      "cell_type": "code",
      "execution_count": null,
      "metadata": {
        "colab": {
          "base_uri": "https://localhost:8080/"
        },
        "id": "584U3KB1GH8w",
        "outputId": "f77842b2-48fe-4efc-a2ca-b87454631079"
      },
      "outputs": [
        {
          "data": {
            "text/plain": [
              "tensor([7.3258e-02, 4.7905e-03, 1.4326e-01, 8.5431e-02, 0.0000e+00, 0.0000e+00,\n",
              "        0.0000e+00, 1.0771e-01, 2.3255e-02, 9.9250e-02, 7.8145e-02, 7.6100e-02,\n",
              "        0.0000e+00, 2.0643e-01, 0.0000e+00, 6.3144e-02, 7.6659e-02, 0.0000e+00,\n",
              "        0.0000e+00, 5.3319e-02, 2.9052e-01, 0.0000e+00, 1.1991e-01, 2.0213e-01,\n",
              "        0.0000e+00, 0.0000e+00, 0.0000e+00, 5.0750e-02, 2.5038e-01, 7.0100e-02,\n",
              "        0.0000e+00, 9.5201e-02, 0.0000e+00, 0.0000e+00, 0.0000e+00, 0.0000e+00,\n",
              "        6.2684e-02, 0.0000e+00, 0.0000e+00, 0.0000e+00, 0.0000e+00, 0.0000e+00,\n",
              "        7.5674e-02, 2.9135e-02, 0.0000e+00, 0.0000e+00, 0.0000e+00, 1.9981e-01,\n",
              "        0.0000e+00, 0.0000e+00, 0.0000e+00, 1.5849e-01, 2.9518e-02, 0.0000e+00,\n",
              "        9.9162e-02, 0.0000e+00, 0.0000e+00, 0.0000e+00, 1.8625e-01, 1.6340e-01,\n",
              "        0.0000e+00, 0.0000e+00, 1.0939e-01, 2.2355e-02, 0.0000e+00, 1.7597e-01,\n",
              "        1.5238e-01, 4.5492e-02, 0.0000e+00, 0.0000e+00, 0.0000e+00, 9.5950e-02,\n",
              "        0.0000e+00, 1.7501e-01, 0.0000e+00, 0.0000e+00, 8.0603e-02, 4.0125e-02,\n",
              "        6.3737e-02, 0.0000e+00, 6.1077e-02, 3.6985e-02, 5.1030e-02, 0.0000e+00,\n",
              "        0.0000e+00, 1.1220e-01, 2.3807e-02, 0.0000e+00, 7.2586e-02, 0.0000e+00,\n",
              "        1.7529e-01, 1.5140e-01, 0.0000e+00, 0.0000e+00, 1.9512e-01, 1.2468e-01,\n",
              "        0.0000e+00, 0.0000e+00, 1.6483e-01, 1.4932e-01, 0.0000e+00, 0.0000e+00,\n",
              "        0.0000e+00, 0.0000e+00, 0.0000e+00, 6.3382e-02, 0.0000e+00, 8.0877e-02,\n",
              "        0.0000e+00, 4.1236e-02, 1.0749e-01, 1.2200e-01, 1.2788e-01, 3.3673e-02,\n",
              "        2.1783e-02, 2.9129e-02, 0.0000e+00, 6.0275e-02, 4.7653e-02, 0.0000e+00,\n",
              "        0.0000e+00, 1.6457e-01, 0.0000e+00, 1.0111e-02, 4.4455e-02, 9.4110e-02,\n",
              "        1.0116e-01, 0.0000e+00, 0.0000e+00, 0.0000e+00, 0.0000e+00, 0.0000e+00,\n",
              "        5.8917e-02, 0.0000e+00, 3.1736e-02, 0.0000e+00, 0.0000e+00, 0.0000e+00,\n",
              "        6.4932e-03, 0.0000e+00, 1.9228e-01, 0.0000e+00, 0.0000e+00, 1.4026e-01,\n",
              "        3.4019e-01, 1.8666e-01, 0.0000e+00, 0.0000e+00, 0.0000e+00, 0.0000e+00,\n",
              "        4.5136e-02, 0.0000e+00, 1.8790e-01, 0.0000e+00, 0.0000e+00, 1.1400e-01,\n",
              "        0.0000e+00, 0.0000e+00, 0.0000e+00, 1.2471e-01, 0.0000e+00, 0.0000e+00,\n",
              "        0.0000e+00, 8.7801e-02, 0.0000e+00, 0.0000e+00, 5.1743e-02, 0.0000e+00,\n",
              "        0.0000e+00, 4.5871e-02, 0.0000e+00, 0.0000e+00, 2.7170e-01, 0.0000e+00,\n",
              "        0.0000e+00, 0.0000e+00, 1.0444e-01, 0.0000e+00, 2.9800e-01, 0.0000e+00,\n",
              "        3.5324e-02, 3.1838e-01, 0.0000e+00, 0.0000e+00, 8.6942e-02, 1.4047e-01,\n",
              "        2.0110e-01, 0.0000e+00, 6.3064e-02, 0.0000e+00, 7.1566e-02, 1.8246e-01,\n",
              "        2.8024e-02, 4.9901e-02, 0.0000e+00, 1.2505e-01, 8.3604e-02, 0.0000e+00,\n",
              "        0.0000e+00, 1.1894e-01, 2.0768e-01, 0.0000e+00, 7.5244e-02, 1.0876e-01,\n",
              "        3.4256e-03, 1.8252e-01, 0.0000e+00, 2.9881e-01, 2.4593e-02, 0.0000e+00,\n",
              "        0.0000e+00, 7.8324e-02, 5.8408e-02, 5.0792e-02, 1.6910e-02, 0.0000e+00,\n",
              "        0.0000e+00, 1.9679e-01, 1.9465e-01, 0.0000e+00, 0.0000e+00, 0.0000e+00,\n",
              "        1.8061e-01, 1.8926e-02, 0.0000e+00, 1.6227e-01, 0.0000e+00, 1.7264e-01,\n",
              "        0.0000e+00, 2.9203e-02, 6.8926e-02, 0.0000e+00, 8.5422e-03, 2.2949e-02,\n",
              "        0.0000e+00, 3.1195e-01, 0.0000e+00, 1.3379e-01, 0.0000e+00, 2.2728e-02,\n",
              "        0.0000e+00, 0.0000e+00, 0.0000e+00, 0.0000e+00, 0.0000e+00, 2.1672e-02,\n",
              "        0.0000e+00, 0.0000e+00, 0.0000e+00, 6.8442e-02, 1.2903e-01, 7.1433e-02,\n",
              "        1.8443e-03, 0.0000e+00, 4.3648e-02, 0.0000e+00, 0.0000e+00, 0.0000e+00,\n",
              "        0.0000e+00, 0.0000e+00, 7.2626e-02, 0.0000e+00, 0.0000e+00, 2.3083e-01,\n",
              "        1.2993e-01, 0.0000e+00, 2.2633e-01, 0.0000e+00, 8.6962e-02, 7.3184e-02,\n",
              "        0.0000e+00, 1.4427e-01, 0.0000e+00, 0.0000e+00, 0.0000e+00, 0.0000e+00,\n",
              "        1.5401e-01, 2.9143e-01, 0.0000e+00, 0.0000e+00, 0.0000e+00, 1.5783e-01,\n",
              "        0.0000e+00, 0.0000e+00, 7.5754e-02, 5.0369e-02, 0.0000e+00, 0.0000e+00,\n",
              "        1.1640e-01, 0.0000e+00, 7.0190e-02, 1.6056e-01, 0.0000e+00, 0.0000e+00,\n",
              "        1.0497e-01, 0.0000e+00, 3.1495e-02, 1.8827e-01, 0.0000e+00, 0.0000e+00,\n",
              "        8.6098e-02, 2.8396e-01, 0.0000e+00, 0.0000e+00, 0.0000e+00, 1.6391e-02,\n",
              "        1.3245e-01, 0.0000e+00, 3.0542e-01, 2.7249e-01, 0.0000e+00, 0.0000e+00,\n",
              "        0.0000e+00, 2.4200e-01, 2.6778e-02, 2.1162e-01, 6.2505e-02, 0.0000e+00,\n",
              "        1.1080e-01, 3.2465e-01, 0.0000e+00, 1.7160e-01, 2.9990e-01, 9.3837e-02,\n",
              "        1.0007e-01, 0.0000e+00, 2.6877e-02, 3.6289e-02, 0.0000e+00, 0.0000e+00,\n",
              "        0.0000e+00, 0.0000e+00, 3.4033e-02, 8.6817e-02, 1.8553e-01, 1.5542e-01,\n",
              "        0.0000e+00, 1.1517e-01, 4.1060e-02, 5.0827e-02, 1.6084e-01, 1.6591e-02,\n",
              "        9.1157e-02, 1.1145e-01, 1.1843e-01, 0.0000e+00, 1.4200e-01, 1.1804e-01,\n",
              "        0.0000e+00, 1.7920e-01, 0.0000e+00, 8.7536e-02, 0.0000e+00, 0.0000e+00,\n",
              "        0.0000e+00, 0.0000e+00, 9.1399e-03, 8.1256e-02, 1.0389e-01, 1.2579e-02,\n",
              "        0.0000e+00, 1.2921e-01, 1.5079e-01, 1.8964e-02, 4.2319e-02, 1.0555e-01,\n",
              "        0.0000e+00, 6.2793e-02, 2.1461e-01, 0.0000e+00, 1.3082e-01, 4.3926e-03,\n",
              "        0.0000e+00, 3.8844e-02, 0.0000e+00, 0.0000e+00, 0.0000e+00, 0.0000e+00,\n",
              "        5.5197e-02, 2.0593e-01, 3.4166e-02, 9.0105e-02, 0.0000e+00, 1.3745e-01,\n",
              "        8.5721e-02, 0.0000e+00, 0.0000e+00, 0.0000e+00, 1.4358e-01, 1.2555e-01,\n",
              "        0.0000e+00, 2.0912e-02, 0.0000e+00, 4.1233e-02, 0.0000e+00, 7.2857e-02,\n",
              "        1.5837e-01, 1.3474e-01, 0.0000e+00, 4.6186e-02, 0.0000e+00, 1.4205e-01,\n",
              "        0.0000e+00, 0.0000e+00, 1.5886e-01, 7.9320e-02, 0.0000e+00, 0.0000e+00,\n",
              "        0.0000e+00, 0.0000e+00, 9.3530e-02, 4.7653e-02, 2.0002e-01, 0.0000e+00,\n",
              "        1.5277e-03, 1.9688e-01, 0.0000e+00, 0.0000e+00, 0.0000e+00, 0.0000e+00,\n",
              "        0.0000e+00, 0.0000e+00, 0.0000e+00, 0.0000e+00, 5.1330e-02, 3.0360e-01,\n",
              "        3.7798e-01, 1.6678e-01, 1.0420e-01, 0.0000e+00, 1.0759e-01, 6.7844e-02,\n",
              "        0.0000e+00, 0.0000e+00, 0.0000e+00, 0.0000e+00, 0.0000e+00, 9.0259e-02,\n",
              "        0.0000e+00, 1.6708e-01, 1.6949e-01, 0.0000e+00, 0.0000e+00, 6.9304e-02,\n",
              "        0.0000e+00, 0.0000e+00, 0.0000e+00, 3.0384e-02, 2.4541e-02, 6.0592e-02,\n",
              "        2.5282e-02, 0.0000e+00, 0.0000e+00, 0.0000e+00, 1.9950e-01, 0.0000e+00,\n",
              "        1.0340e-01, 0.0000e+00, 6.9776e-02, 3.8276e-02, 0.0000e+00, 2.2499e-01,\n",
              "        1.5245e-01, 9.6857e-02, 0.0000e+00, 0.0000e+00, 1.7139e-01, 1.1108e-01,\n",
              "        1.0143e-01, 1.5482e-01, 0.0000e+00, 0.0000e+00, 0.0000e+00, 1.3367e-01,\n",
              "        0.0000e+00, 0.0000e+00, 0.0000e+00, 0.0000e+00, 0.0000e+00, 0.0000e+00,\n",
              "        1.2163e-01, 0.0000e+00, 0.0000e+00, 0.0000e+00, 7.3045e-02, 3.0056e-01,\n",
              "        4.8892e-03, 1.3321e-01, 0.0000e+00, 1.9668e-01, 1.6758e-01, 5.5809e-02,\n",
              "        1.2604e-01, 0.0000e+00, 1.3032e-01, 2.3334e-01, 6.5308e-02, 0.0000e+00,\n",
              "        0.0000e+00, 1.0704e-01, 0.0000e+00, 0.0000e+00, 0.0000e+00, 4.8515e-02,\n",
              "        0.0000e+00, 1.1860e-01, 1.4098e-01, 8.4793e-02, 1.2391e-01, 0.0000e+00,\n",
              "        5.9255e-03, 0.0000e+00, 0.0000e+00, 2.2882e-01, 0.0000e+00, 0.0000e+00,\n",
              "        0.0000e+00, 0.0000e+00, 1.6090e-01, 2.0045e-02, 0.0000e+00, 0.0000e+00,\n",
              "        9.6793e-02, 0.0000e+00, 0.0000e+00, 2.8769e-03, 0.0000e+00, 0.0000e+00,\n",
              "        0.0000e+00, 0.0000e+00, 0.0000e+00, 4.7319e-02, 0.0000e+00, 0.0000e+00,\n",
              "        1.5423e-02, 0.0000e+00, 0.0000e+00, 9.5482e-02, 1.2686e-01, 1.2162e-01,\n",
              "        2.2855e-01, 0.0000e+00, 0.0000e+00, 0.0000e+00, 0.0000e+00, 1.4043e-01,\n",
              "        0.0000e+00, 0.0000e+00, 1.8370e-01, 0.0000e+00, 2.3223e-01, 1.1874e-01,\n",
              "        2.4447e-01, 5.5636e-02, 1.0506e-01, 2.7339e-01, 2.1754e-01, 0.0000e+00,\n",
              "        0.0000e+00, 0.0000e+00, 2.5935e-02, 3.8078e-02, 0.0000e+00, 0.0000e+00,\n",
              "        0.0000e+00, 0.0000e+00, 0.0000e+00, 4.7120e-02, 2.7540e-02, 7.4359e-02,\n",
              "        0.0000e+00, 1.7437e-01, 1.4102e-01, 6.2746e-02, 0.0000e+00, 1.5332e-01,\n",
              "        2.7899e-01, 9.7892e-03, 3.2847e-01, 1.2538e-02, 1.6322e-01, 0.0000e+00,\n",
              "        0.0000e+00, 8.8852e-02, 7.5883e-02, 1.1203e-02, 0.0000e+00, 9.7783e-02,\n",
              "        1.0493e-01, 1.8932e-02, 9.6313e-03, 0.0000e+00, 4.7654e-02, 1.2894e-01,\n",
              "        1.1539e-01, 0.0000e+00, 3.4732e-02, 8.2851e-02, 0.0000e+00, 0.0000e+00,\n",
              "        7.8558e-03, 0.0000e+00, 0.0000e+00, 0.0000e+00, 0.0000e+00, 0.0000e+00,\n",
              "        7.0187e-02, 2.6166e-01, 6.6577e-02, 0.0000e+00, 2.6948e-02, 0.0000e+00,\n",
              "        0.0000e+00, 6.0165e-02, 1.5199e-01, 1.5778e-01, 0.0000e+00, 0.0000e+00,\n",
              "        6.5575e-02, 0.0000e+00, 0.0000e+00, 0.0000e+00, 0.0000e+00, 6.8353e-02,\n",
              "        0.0000e+00, 0.0000e+00, 3.3848e-02, 9.0969e-02, 4.2245e-02, 0.0000e+00,\n",
              "        4.0790e-02, 1.0859e-01, 0.0000e+00, 0.0000e+00, 0.0000e+00, 9.6120e-02,\n",
              "        0.0000e+00, 0.0000e+00, 0.0000e+00, 0.0000e+00, 0.0000e+00, 0.0000e+00,\n",
              "        0.0000e+00, 1.3251e-01, 0.0000e+00, 1.0410e-01, 2.0023e-02, 2.3464e-01,\n",
              "        0.0000e+00, 0.0000e+00, 2.6517e-01, 0.0000e+00, 0.0000e+00, 5.0078e-02,\n",
              "        4.7843e-02, 0.0000e+00, 2.8998e-02, 0.0000e+00, 0.0000e+00, 6.7291e-02,\n",
              "        0.0000e+00, 0.0000e+00, 0.0000e+00, 0.0000e+00, 1.7594e-01, 1.4034e-01,\n",
              "        1.5042e-01, 0.0000e+00, 0.0000e+00, 0.0000e+00, 0.0000e+00, 6.4969e-02,\n",
              "        1.5605e-01, 1.3637e-01, 2.1040e-01, 0.0000e+00, 1.1874e-01, 0.0000e+00,\n",
              "        0.0000e+00, 2.9579e-02, 3.0145e-01, 0.0000e+00, 1.3790e-01, 9.0033e-03,\n",
              "        0.0000e+00, 2.3596e-01, 0.0000e+00, 1.5261e-01, 0.0000e+00, 0.0000e+00,\n",
              "        4.5159e-02, 1.7016e-01, 3.3476e-02, 0.0000e+00, 1.2476e-01, 0.0000e+00,\n",
              "        1.2402e-01, 1.4733e-03, 6.4081e-02, 0.0000e+00, 0.0000e+00, 2.4953e-01,\n",
              "        0.0000e+00, 0.0000e+00, 0.0000e+00, 0.0000e+00, 0.0000e+00, 6.4809e-02,\n",
              "        1.9794e-01, 2.2739e-01, 1.0539e-01, 2.9463e-02, 5.1585e-02, 0.0000e+00,\n",
              "        9.6193e-02, 6.3660e-02, 1.0169e-01, 1.3626e-01, 1.0052e-01, 1.3569e-01,\n",
              "        0.0000e+00, 1.6802e-01, 3.6672e-02, 0.0000e+00, 1.0280e-01, 0.0000e+00,\n",
              "        1.4101e-01, 4.3347e-02, 9.9461e-02, 0.0000e+00, 0.0000e+00, 0.0000e+00,\n",
              "        1.2577e-01, 0.0000e+00, 3.9128e-02, 3.9728e-03, 0.0000e+00, 5.0001e-02,\n",
              "        5.9716e-02, 0.0000e+00, 0.0000e+00, 0.0000e+00, 2.7503e-02, 0.0000e+00,\n",
              "        0.0000e+00, 1.8924e-01, 1.5369e-01, 1.8512e-02, 0.0000e+00, 0.0000e+00,\n",
              "        0.0000e+00, 0.0000e+00, 0.0000e+00, 0.0000e+00, 9.2445e-02, 1.3171e-01,\n",
              "        7.8877e-03, 1.5435e-01, 0.0000e+00, 0.0000e+00, 1.3752e-01, 1.1842e-02,\n",
              "        2.5057e-02, 0.0000e+00, 0.0000e+00, 0.0000e+00, 1.2148e-01, 0.0000e+00,\n",
              "        0.0000e+00, 1.0513e-01, 3.0672e-01, 0.0000e+00, 7.2343e-02, 0.0000e+00,\n",
              "        0.0000e+00, 1.4658e-01, 0.0000e+00, 0.0000e+00, 0.0000e+00, 0.0000e+00,\n",
              "        0.0000e+00, 7.2831e-02, 0.0000e+00, 2.7905e-01, 0.0000e+00, 0.0000e+00,\n",
              "        0.0000e+00, 0.0000e+00, 1.7351e-02, 0.0000e+00, 1.6782e-01, 0.0000e+00,\n",
              "        0.0000e+00, 8.3486e-02, 2.4684e-01, 3.2847e-02, 0.0000e+00, 3.4198e-04,\n",
              "        0.0000e+00, 0.0000e+00], grad_fn=<ReluBackward0>)"
            ]
          },
          "execution_count": 64,
          "metadata": {},
          "output_type": "execute_result"
        }
      ],
      "source": [
        "p1"
      ]
    },
    {
      "cell_type": "code",
      "execution_count": null,
      "metadata": {
        "colab": {
          "base_uri": "https://localhost:8080/"
        },
        "id": "R4ZByF_7PnqX",
        "outputId": "7f4936f0-0f49-4e48-ce48-45639c086614"
      },
      "outputs": [
        {
          "data": {
            "text/plain": [
              "torch.Size([800])"
            ]
          },
          "execution_count": 65,
          "metadata": {},
          "output_type": "execute_result"
        }
      ],
      "source": [
        "p1.shape"
      ]
    },
    {
      "cell_type": "code",
      "execution_count": null,
      "metadata": {
        "id": "tZCJi6wBGRBV"
      },
      "outputs": [],
      "source": []
    },
    {
      "cell_type": "code",
      "execution_count": null,
      "metadata": {
        "id": "pZ_RhOCTQA-x"
      },
      "outputs": [],
      "source": [
        "import pandas as pd\n",
        "action_mask = timestep.observation.action_mask.flatten()\n"
      ]
    },
    {
      "cell_type": "code",
      "execution_count": null,
      "metadata": {
        "id": "pM-ixupMHRaR"
      },
      "outputs": [],
      "source": [
        "action_tensor = torch.tensor(np.array(action_mask),dtype=torch.int)"
      ]
    },
    {
      "cell_type": "code",
      "execution_count": null,
      "metadata": {
        "id": "ZG6-CPJIG01R"
      },
      "outputs": [],
      "source": [
        "indices = torch.nonzero(action_tensor)  #getting valid indicies "
      ]
    },
    {
      "cell_type": "code",
      "execution_count": null,
      "metadata": {
        "id": "wrFrJ-_kxppV"
      },
      "outputs": [],
      "source": [
        "import pandas as pd\n",
        "action_mask = timestep.observation.action_mask.flatten()\n",
        "action_tensor = torch.tensor(np.array(action_mask),dtype=torch.int)\n",
        "indices = torch.nonzero(action_tensor)  #getting valid indicies \n",
        "p2 = p1[indices] # getting proper valid action probablities "
      ]
    },
    {
      "cell_type": "code",
      "execution_count": null,
      "metadata": {
        "colab": {
          "base_uri": "https://localhost:8080/"
        },
        "id": "FkX5fDQsIXoE",
        "outputId": "2b3f5ca8-443d-4e35-e42a-2e723056e193"
      },
      "outputs": [
        {
          "data": {
            "text/plain": [
              "tensor([[ 0],\n",
              "        [ 1],\n",
              "        [ 2],\n",
              "        [ 3],\n",
              "        [ 4],\n",
              "        [ 5],\n",
              "        [ 6],\n",
              "        [ 7],\n",
              "        [ 8],\n",
              "        [ 9],\n",
              "        [10],\n",
              "        [12],\n",
              "        [13],\n",
              "        [14],\n",
              "        [15],\n",
              "        [16],\n",
              "        [17],\n",
              "        [18],\n",
              "        [19],\n",
              "        [22],\n",
              "        [23],\n",
              "        [24],\n",
              "        [26],\n",
              "        [28],\n",
              "        [29],\n",
              "        [30],\n",
              "        [32],\n",
              "        [34],\n",
              "        [35],\n",
              "        [36],\n",
              "        [37],\n",
              "        [38],\n",
              "        [39],\n",
              "        [40],\n",
              "        [41],\n",
              "        [42],\n",
              "        [44],\n",
              "        [45],\n",
              "        [47],\n",
              "        [48],\n",
              "        [50],\n",
              "        [52],\n",
              "        [53],\n",
              "        [54],\n",
              "        [57],\n",
              "        [58]])"
            ]
          },
          "execution_count": 34,
          "metadata": {},
          "output_type": "execute_result"
        }
      ],
      "source": [
        "indices"
      ]
    },
    {
      "cell_type": "code",
      "execution_count": null,
      "metadata": {
        "colab": {
          "base_uri": "https://localhost:8080/"
        },
        "id": "l7TeSUp2Iiwp",
        "outputId": "01dcf9f4-88f8-4e8e-fafa-21240f615c5d"
      },
      "outputs": [
        {
          "data": {
            "text/plain": [
              "tensor([[1],\n",
              "        [1],\n",
              "        [1],\n",
              "        [1],\n",
              "        [1],\n",
              "        [1],\n",
              "        [1],\n",
              "        [1],\n",
              "        [1],\n",
              "        [1],\n",
              "        [1],\n",
              "        [1],\n",
              "        [1],\n",
              "        [1],\n",
              "        [1],\n",
              "        [1],\n",
              "        [1],\n",
              "        [1],\n",
              "        [1],\n",
              "        [1],\n",
              "        [1],\n",
              "        [1],\n",
              "        [1],\n",
              "        [1],\n",
              "        [1],\n",
              "        [1],\n",
              "        [1],\n",
              "        [1],\n",
              "        [1],\n",
              "        [1],\n",
              "        [1],\n",
              "        [1],\n",
              "        [1],\n",
              "        [1],\n",
              "        [1],\n",
              "        [1],\n",
              "        [1],\n",
              "        [1],\n",
              "        [1],\n",
              "        [1],\n",
              "        [1],\n",
              "        [1],\n",
              "        [1],\n",
              "        [1],\n",
              "        [1],\n",
              "        [1]], dtype=torch.int32)"
            ]
          },
          "execution_count": 35,
          "metadata": {},
          "output_type": "execute_result"
        }
      ],
      "source": [
        "action_tensor[indices]"
      ]
    },
    {
      "cell_type": "code",
      "execution_count": null,
      "metadata": {
        "id": "ZoUQ-0JcJroN"
      },
      "outputs": [],
      "source": [
        "p2 = p1[indices] # getting proper valid action probablities "
      ]
    },
    {
      "cell_type": "code",
      "execution_count": null,
      "metadata": {
        "colab": {
          "base_uri": "https://localhost:8080/"
        },
        "id": "j1g4e6hqR4HH",
        "outputId": "f2359a11-2ef5-43bb-c292-33052e0c4c7d"
      },
      "outputs": [
        {
          "data": {
            "text/plain": [
              "tensor([[0.0733],\n",
              "        [0.0048],\n",
              "        [0.1433],\n",
              "        [0.0854],\n",
              "        [0.0000],\n",
              "        [0.0000],\n",
              "        [0.0000],\n",
              "        [0.1077],\n",
              "        [0.0233],\n",
              "        [0.0992],\n",
              "        [0.0781],\n",
              "        [0.0000],\n",
              "        [0.2064],\n",
              "        [0.0000],\n",
              "        [0.0631],\n",
              "        [0.0767],\n",
              "        [0.0000],\n",
              "        [0.0000],\n",
              "        [0.0533],\n",
              "        [0.1199],\n",
              "        [0.2021],\n",
              "        [0.0000],\n",
              "        [0.0000],\n",
              "        [0.2504],\n",
              "        [0.0701],\n",
              "        [0.0000],\n",
              "        [0.0000],\n",
              "        [0.0000],\n",
              "        [0.0000],\n",
              "        [0.0627],\n",
              "        [0.0000],\n",
              "        [0.0000],\n",
              "        [0.0000],\n",
              "        [0.0000],\n",
              "        [0.0000],\n",
              "        [0.0757],\n",
              "        [0.0000],\n",
              "        [0.0000],\n",
              "        [0.1998],\n",
              "        [0.0000],\n",
              "        [0.0000],\n",
              "        [0.0295],\n",
              "        [0.0000],\n",
              "        [0.0992],\n",
              "        [0.0000],\n",
              "        [0.1862]], grad_fn=<IndexBackward0>)"
            ]
          },
          "execution_count": 107,
          "metadata": {},
          "output_type": "execute_result"
        }
      ],
      "source": [
        "p1[indices]"
      ]
    },
    {
      "cell_type": "code",
      "execution_count": null,
      "metadata": {
        "id": "nCZyH2EXJ1XN"
      },
      "outputs": [],
      "source": [
        "from torch.distributions import Categorical\n"
      ]
    },
    {
      "cell_type": "code",
      "execution_count": null,
      "metadata": {
        "colab": {
          "base_uri": "https://localhost:8080/"
        },
        "id": "DEtz53gZP1Nc",
        "outputId": "1420f4de-9e75-4803-ea70-5b8c81683a24"
      },
      "outputs": [
        {
          "data": {
            "text/plain": [
              "torch.Size([800])"
            ]
          },
          "execution_count": 90,
          "metadata": {},
          "output_type": "execute_result"
        }
      ],
      "source": [
        "p1.shape"
      ]
    },
    {
      "cell_type": "code",
      "execution_count": null,
      "metadata": {
        "colab": {
          "base_uri": "https://localhost:8080/"
        },
        "id": "0XBXdUY2QN4C",
        "outputId": "1abc109e-0233-4881-b1fb-f11b9bfcba1d"
      },
      "outputs": [
        {
          "data": {
            "text/plain": [
              "torch.Size([46, 1])"
            ]
          },
          "execution_count": 93,
          "metadata": {},
          "output_type": "execute_result"
        }
      ],
      "source": [
        "p2.shape"
      ]
    },
    {
      "cell_type": "code",
      "execution_count": null,
      "metadata": {
        "id": "RG5smURRQO9B"
      },
      "outputs": [],
      "source": [
        "p2= torch.reshape(p2,(-1,))  # reshapping it to make it 1D"
      ]
    },
    {
      "cell_type": "code",
      "execution_count": null,
      "metadata": {
        "colab": {
          "base_uri": "https://localhost:8080/"
        },
        "id": "_gP1lyOmKIiW",
        "outputId": "3de225fe-e070-4ddf-8b4d-12e7c82abf19"
      },
      "outputs": [
        {
          "data": {
            "text/plain": [
              "tensor(-3.8186, grad_fn=<SqueezeBackward1>)"
            ]
          },
          "execution_count": 115,
          "metadata": {},
          "output_type": "execute_result"
        }
      ],
      "source": [
        "m = Categorical( logits = p2) #logits un-normalized probablities \n",
        "a=m.sample() #actions\n",
        "m.log_prob(a) # softmax probablity of that action"
      ]
    },
    {
      "cell_type": "code",
      "execution_count": null,
      "metadata": {
        "colab": {
          "base_uri": "https://localhost:8080/"
        },
        "id": "K_GpxHe3SgvN",
        "outputId": "6226085c-272e-4f2a-cb23-3a4dcb81389d"
      },
      "outputs": [
        {
          "data": {
            "text/plain": [
              "tensor([-3.8081, -3.8765, -3.7381, -3.7959, -3.8813, -3.8813, -3.8813, -3.7736,\n",
              "        -3.8581, -3.7821, -3.8032, -3.8813, -3.6749, -3.8813, -3.8182, -3.8047,\n",
              "        -3.8813, -3.8813, -3.8280, -3.7614, -3.6792, -3.8813, -3.8813, -3.6309,\n",
              "        -3.8112, -3.8813, -3.8813, -3.8813, -3.8813, -3.8186, -3.8813, -3.8813,\n",
              "        -3.8813, -3.8813, -3.8813, -3.8056, -3.8813, -3.8813, -3.6815, -3.8813,\n",
              "        -3.8813, -3.8518, -3.8813, -3.7821, -3.8813, -3.6951],\n",
              "       grad_fn=<SubBackward0>)"
            ]
          },
          "execution_count": 118,
          "metadata": {},
          "output_type": "execute_result"
        }
      ],
      "source": [
        "m.logits"
      ]
    },
    {
      "cell_type": "code",
      "execution_count": null,
      "metadata": {
        "colab": {
          "base_uri": "https://localhost:8080/"
        },
        "id": "M9JfxUJfKAoI",
        "outputId": "96b346e1-46f2-43b2-947b-b929874be37f"
      },
      "outputs": [
        {
          "data": {
            "text/plain": [
              "29"
            ]
          },
          "execution_count": 120,
          "metadata": {},
          "output_type": "execute_result"
        }
      ],
      "source": [
        "a.item() "
      ]
    },
    {
      "cell_type": "code",
      "execution_count": null,
      "metadata": {
        "colab": {
          "base_uri": "https://localhost:8080/"
        },
        "id": "IsQRRNozTPlZ",
        "outputId": "e74e7673-082f-4b0d-d575-9e6135907b15"
      },
      "outputs": [
        {
          "data": {
            "text/plain": [
              "tensor([36])"
            ]
          },
          "execution_count": 122,
          "metadata": {},
          "output_type": "execute_result"
        }
      ],
      "source": [
        "indices[a.item()].item() # valid action value "
      ]
    },
    {
      "cell_type": "code",
      "execution_count": null,
      "metadata": {
        "id": "tenmanW7GWtn"
      },
      "outputs": [],
      "source": [
        "# # X = torch.tensor([0.1, 0.5, -1.0, 0, 1.2, 0])\n",
        "# mask = action_mask == True\n",
        "# mask\n",
        "# tensor([1, 1, 0, 1, 1, 1], dtype=torch.uint8)\n",
        "\n",
        "# >>> indices = torch.nonzero(mask)\n",
        "# >>> indices\n",
        "# tensor([[0],\n",
        "#         [1],\n",
        "#         [3],\n",
        "#         [4],\n",
        "#         [5]])\n",
        "\n",
        "# >>> X[indices]\n",
        "# tensor([[0.1000],\n",
        "#         [0.5000],\n",
        "#         [0.0000],\n",
        "#         [1.2000],\n",
        "#         [0.0000]])"
      ]
    },
    {
      "cell_type": "code",
      "execution_count": null,
      "metadata": {
        "colab": {
          "base_uri": "https://localhost:8080/",
          "height": 165
        },
        "id": "iMtNUWDyjxRb",
        "outputId": "28dbb33b-986d-4020-ec49-d7fabe58dffb"
      },
      "outputs": [
        {
          "ename": "NameError",
          "evalue": "ignored",
          "output_type": "error",
          "traceback": [
            "\u001b[0;31m---------------------------------------------------------------------------\u001b[0m",
            "\u001b[0;31mNameError\u001b[0m                                 Traceback (most recent call last)",
            "\u001b[0;32m<ipython-input-35-dd84005a589c>\u001b[0m in \u001b[0;36m<module>\u001b[0;34m\u001b[0m\n\u001b[0;32m----> 1\u001b[0;31m \u001b[0mems_item_id\u001b[0m\u001b[0;34m\u001b[0m\u001b[0;34m\u001b[0m\u001b[0m\n\u001b[0m",
            "\u001b[0;31mNameError\u001b[0m: name 'ems_item_id' is not defined"
          ]
        }
      ],
      "source": [
        "ems_item_id"
      ]
    },
    {
      "cell_type": "code",
      "execution_count": null,
      "metadata": {
        "colab": {
          "base_uri": "https://localhost:8080/"
        },
        "id": "FRgJN6816B4u",
        "outputId": "b8b50061-4426-4806-ed00-e6514169ea9c"
      },
      "outputs": [
        {
          "data": {
            "text/plain": [
              "DeviceArray([ 0, 11], dtype=int32)"
            ]
          },
          "execution_count": 149,
          "metadata": {},
          "output_type": "execute_result"
        }
      ],
      "source": [
        "action"
      ]
    },
    {
      "cell_type": "code",
      "execution_count": null,
      "metadata": {
        "id": "J8frhkeQHJBR"
      },
      "outputs": [],
      "source": [
        "l = [ 0.25, 0.25, 0.25, 0.25 ]"
      ]
    },
    {
      "cell_type": "code",
      "execution_count": null,
      "metadata": {
        "colab": {
          "base_uri": "https://localhost:8080/"
        },
        "id": "5elpRWLVGp7E",
        "outputId": "6e818732-c1dc-48f8-eeaf-5b181a37eef4"
      },
      "outputs": [
        {
          "data": {
            "text/plain": [
              "tensor(3)"
            ]
          },
          "execution_count": 6,
          "metadata": {},
          "output_type": "execute_result"
        }
      ],
      "source": [
        "import torch\n",
        "from torch.distributions import MultivariateNormal,Categorical\n",
        "m = Categorical(torch.tensor(l))\n",
        "m.sample()"
      ]
    },
    {
      "cell_type": "code",
      "execution_count": null,
      "metadata": {
        "colab": {
          "base_uri": "https://localhost:8080/"
        },
        "id": "BtQ9pR7cGy1S",
        "outputId": "67f9e4c1-b593-4adf-ac83-205fb6611a8b"
      },
      "outputs": [
        {
          "data": {
            "text/plain": [
              "0.25"
            ]
          },
          "execution_count": 7,
          "metadata": {},
          "output_type": "execute_result"
        }
      ],
      "source": [
        "l[3]"
      ]
    }
  ],
  "metadata": {
    "colab": {
      "provenance": []
    },
    "gpuClass": "standard",
    "kernelspec": {
      "display_name": "Python 3",
      "language": "python",
      "name": "python3"
    },
    "language_info": {
      "codemirror_mode": {
        "name": "ipython",
        "version": 3
      },
      "file_extension": ".py",
      "mimetype": "text/x-python",
      "name": "python",
      "nbconvert_exporter": "python",
      "pygments_lexer": "ipython3",
      "version": "3.8.15"
    },
    "vscode": {
      "interpreter": {
        "hash": "c185be73de2efb290183dc2463f09a8777cdf0905db2255d30393f376d4ea358"
      }
    }
  },
  "nbformat": 4,
  "nbformat_minor": 0
}
